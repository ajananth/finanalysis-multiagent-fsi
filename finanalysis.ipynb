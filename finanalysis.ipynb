{
 "cells": [
  {
   "cell_type": "markdown",
   "metadata": {},
   "source": [
    "### Financial Analysis - Multi-Agent Pattern\n",
    "\n",
    "This sample code demonstrates the use of a multi-agent pattern for analysing complex financial data for reporting. By using agents specialising in analysing areas such as profitability, capitalisation & asset quality, a summary containing the financial analysis is generated. The agents make use of the Assistants API in Azure OpenAI."
   ]
  },
  {
   "cell_type": "markdown",
   "metadata": {},
   "source": [
    "The multi-agent example published by Microsoft has been used as a reference for this notebook - https://github.com/Azure-Samples/azureai-samples/blob/main/scenarios/Assistants/multi-agent/multi-agent.ipynb\n"
   ]
  },
  {
   "cell_type": "code",
   "execution_count": null,
   "metadata": {},
   "outputs": [],
   "source": [
    "# Uncomment lines below to install dependencies; re-comment after installation.\n",
    "# %pip install -r requirements.txt\n",
    "# %pip install --upgrade openai"
   ]
  },
  {
   "cell_type": "code",
   "execution_count": null,
   "metadata": {},
   "outputs": [],
   "source": [
    "# Set-up\n",
    "import os\n",
    "import time\n",
    "from dotenv import load_dotenv\n",
    "from openai import AzureOpenAI\n",
    "from openai.types.beta import Thread\n",
    "from openai.types.beta import Assistant\n",
    "\n",
    "load_dotenv()\n",
    "\n",
    "assistant_client = AzureOpenAI(\n",
    "    api_key=os.getenv(\"GPT4_AZURE_OPENAI_KEY\"),\n",
    "    api_version=os.getenv(\"GPT4_AZURE_OPENAI_API_VERSION\"),\n",
    "    azure_endpoint=os.getenv(\n",
    "        \"GPT4_AZURE_OPENAI_ENDPOINT\"\n",
    "    ),\n",
    ")\n",
    "\n",
    "assistant_deployment_name = os.getenv(\n",
    "    \"GPT4_DEPLOYMENT_NAME\"\n",
    ")"
   ]
  },
  {
   "cell_type": "code",
   "execution_count": null,
   "metadata": {},
   "outputs": [],
   "source": [
    "# Prompt - Profitability Assistant\n",
    "name_profitability_analyser = \"profitability_assistant\"\n",
    "instructions_profitability_analyser = \"\"\"\"\"\" # Add prompt for proftability analysis here"
   ]
  },
  {
   "cell_type": "code",
   "execution_count": null,
   "metadata": {},
   "outputs": [],
   "source": [
    "# Prompt - Capitalisation Assistant\n",
    "name_capitalisation_analyser = \"capitalisation_assistant\"\n",
    "instructions_capitalisation_analyser = \"\"\"\"\"\" # Add prompt for capitalisation analysis here"
   ]
  },
  {
   "cell_type": "code",
   "execution_count": null,
   "metadata": {},
   "outputs": [],
   "source": [
    "# Prompt - Asset Quality Assistant\n",
    "name_assetquality_analyser = \"assetquality_assistant\"\n",
    "instructions_assetquality_analyser = \"\"\"\"\"\" # Add prompt for asset quality analysis here"
   ]
  },
  {
   "cell_type": "code",
   "execution_count": null,
   "metadata": {},
   "outputs": [],
   "source": [
    "# Prompt - Summariser Assistant\n",
    "name_summariser = \"summariser_assistant\"\n",
    "instructions_summariser = \"\"\"\"\"\" # Add prompt for generating the summary here"
   ]
  },
  {
   "cell_type": "code",
   "execution_count": null,
   "metadata": {},
   "outputs": [],
   "source": [
    "# Create Assistants\n",
    "profitability_assistant = assistant_client.beta.assistants.create(\n",
    "    name=name_profitability_analyser, instructions=instructions_profitability_analyser, model=assistant_deployment_name, tools=[{\"type\":\"code_interpreter\"},{\"type\":\"file_search\"}], temperature=0.01\n",
    ")\n",
    "\n",
    "capitalisation_assistant = assistant_client.beta.assistants.create(\n",
    "    name=name_capitalisation_analyser, instructions=instructions_capitalisation_analyser, model=assistant_deployment_name, tools=[{\"type\":\"code_interpreter\"},{\"type\":\"file_search\"}], temperature=0.01\n",
    ")\n",
    "\n",
    "assetquality_assistant = assistant_client.beta.assistants.create(\n",
    "    name=name_assetquality_analyser, instructions=instructions_assetquality_analyser, model=assistant_deployment_name, tools=[{\"type\":\"code_interpreter\"},{\"type\":\"file_search\"}], temperature=0.01\n",
    ")\n",
    "\n",
    "summariser_assistant = assistant_client.beta.assistants.create(\n",
    "    name=name_summariser, instructions=instructions_summariser, model=assistant_deployment_name, temperature=0.01\n",
    ")"
   ]
  },
  {
   "cell_type": "code",
   "execution_count": null,
   "metadata": {},
   "outputs": [],
   "source": [
    "# Create Vector Store\n",
    "vector_store = assistant_client.beta.vector_stores.create(name=\"Financial Statements\")\n",
    "\n",
    "file_paths = [\"\"] # Add path for financial statements here\n",
    "file_streams = [open(path, \"rb\") for path in file_paths]\n",
    "\n",
    "file_batch = assistant_client.beta.vector_stores.file_batches.upload_and_poll(\n",
    "    vector_store_id=vector_store.id, files=file_streams\n",
    "    )"
   ]
  },
  {
   "cell_type": "code",
   "execution_count": null,
   "metadata": {},
   "outputs": [],
   "source": [
    "# Attach Vector Store to Assistants\n",
    "profitability_assistant = assistant_client.beta.assistants.update(\n",
    "    assistant_id=profitability_assistant.id,\n",
    "    tool_resources={\"file_search\": {\"vector_store_ids\": [vector_store.id]}}\n",
    "      )\n",
    "\n",
    "capitalisation_assistant = assistant_client.beta.assistants.update(\n",
    "    assistant_id=capitalisation_assistant.id,\n",
    "    tool_resources={\"file_search\": {\"vector_store_ids\": [vector_store.id]}}\n",
    "      )\n",
    "\n",
    "assetquality_assistant = assistant_client.beta.assistants.update(\n",
    "    assistant_id=assetquality_assistant.id,\n",
    "    tool_resources={\"file_search\": {\"vector_store_ids\": [vector_store.id]}}\n",
    "      )"
   ]
  },
  {
   "cell_type": "code",
   "execution_count": null,
   "metadata": {},
   "outputs": [],
   "source": [
    "# Create Files for Assistants\n",
    "file_profitability = assistant_client.files.create(\n",
    "  file=open(\"\", \"rb\"), # Add path for file with profitability metrics here\n",
    "  purpose='assistants'\n",
    ")\n",
    "\n",
    "file_capitalisation = assistant_client.files.create(\n",
    "  file=open(\"\", \"rb\"), # Add path for file with capitalisation metrics here\n",
    "  purpose='assistants'\n",
    ")\n",
    "\n",
    "file_assetquality = assistant_client.files.create(\n",
    "  file=open(\"\", \"rb\"), # Add path for file with asset quality metrics here\n",
    "  purpose='assistants'\n",
    ")"
   ]
  },
  {
   "cell_type": "code",
   "execution_count": null,
   "metadata": {},
   "outputs": [],
   "source": [
    "# Attach Files to Assistants\n",
    "profitability_assistant = assistant_client.beta.assistants.update(\n",
    "    assistant_id=profitability_assistant.id,\n",
    "    tool_resources={\"code_interpreter\": {\"file_ids\": [file_profitability.id]}}\n",
    "      )\n",
    "\n",
    "capitalisation_assistant = assistant_client.beta.assistants.update(\n",
    "    assistant_id=capitalisation_assistant.id,\n",
    "    tool_resources={\"code_interpreter\": {\"file_ids\": [file_capitalisation.id]}}\n",
    "      )\n",
    "\n",
    "assetquality_assistant = assistant_client.beta.assistants.update(\n",
    "    assistant_id=assetquality_assistant.id,\n",
    "    tool_resources={\"code_interpreter\": {\"file_ids\": [file_assetquality.id]}}\n",
    "      )"
   ]
  },
  {
   "cell_type": "code",
   "execution_count": null,
   "metadata": {},
   "outputs": [],
   "source": [
    "# Create Thread\n",
    "thread = assistant_client.beta.threads.create()\n",
    "\n",
    "message = assistant_client.beta.threads.messages.create(\n",
    "    thread_id=thread.id,\n",
    "    role=\"user\",\n",
    "    content=\"Analyse.\"\n",
    ")"
   ]
  },
  {
   "cell_type": "code",
   "execution_count": null,
   "metadata": {},
   "outputs": [],
   "source": [
    "# Function for Running Assistants\n",
    "def run_assistant(assistant):\n",
    "  run = assistant_client.beta.threads.runs.create(\n",
    "    thread_id=thread.id,\n",
    "    assistant_id=assistant.id\n",
    "  )\n",
    "\n",
    "  while run.status in ['queued', 'in_progress', 'cancelling']:\n",
    "    time.sleep(1)\n",
    "    run = assistant_client.beta.threads.runs.retrieve(\n",
    "      thread_id=thread.id,\n",
    "      run_id=run.id\n",
    "    )\n",
    "\n",
    "  if run.status == 'completed':\n",
    "    messages = assistant_client.beta.threads.messages.list(\n",
    "      thread_id=thread.id, \n",
    "      run_id=run.id\n",
    "    )\n",
    "  elif run.status == 'requires_action':\n",
    "    pass\n",
    "  else:\n",
    "    print(run.status)\n",
    "\n",
    "  return messages.data"
   ]
  },
  {
   "cell_type": "code",
   "execution_count": null,
   "metadata": {},
   "outputs": [],
   "source": [
    "# Function for Printing Analysis\n",
    "def print_analysis(analysis):\n",
    "    for msg in reversed(analysis):\n",
    "        for content_item in msg.content:\n",
    "            print(content_item.text.value)"
   ]
  },
  {
   "cell_type": "code",
   "execution_count": null,
   "metadata": {},
   "outputs": [],
   "source": [
    "# Run Profitability Assistant\n",
    "analysis = run_assistant(profitability_assistant)\n",
    "print_analysis(analysis)"
   ]
  },
  {
   "cell_type": "code",
   "execution_count": null,
   "metadata": {},
   "outputs": [],
   "source": [
    "# Run Capitalisation Assistant\n",
    "analysis = run_assistant(capitalisation_assistant)\n",
    "print_analysis(analysis)"
   ]
  },
  {
   "cell_type": "code",
   "execution_count": null,
   "metadata": {},
   "outputs": [],
   "source": [
    "# Run Asset Quality Assistant\n",
    "analysis = run_assistant(assetquality_assistant)\n",
    "print_analysis(analysis)"
   ]
  },
  {
   "cell_type": "code",
   "execution_count": null,
   "metadata": {},
   "outputs": [],
   "source": [
    "# Run Summariser Assistant\n",
    "analysis = run_assistant(summariser_assistant)\n",
    "print_analysis(analysis)"
   ]
  },
  {
   "cell_type": "code",
   "execution_count": null,
   "metadata": {},
   "outputs": [],
   "source": [
    "# Clean-up\n",
    "response = assistant_client.beta.assistants.delete(profitability_assistant.id)\n",
    "response = assistant_client.beta.assistants.delete(capitalisation_assistant.id)\n",
    "response = assistant_client.beta.assistants.delete(assetquality_assistant.id)\n",
    "response = assistant_client.beta.assistants.delete(summariser_assistant.id)"
   ]
  }
 ],
 "metadata": {
  "colab": {
   "authorship_tag": "ABX9TyMTFqnHcNCOfGXY2H+UtzIz",
   "provenance": []
  },
  "kernelspec": {
   "display_name": "Python 3",
   "name": "python3"
  },
  "language_info": {
   "codemirror_mode": {
    "name": "ipython",
    "version": 3
   },
   "file_extension": ".py",
   "mimetype": "text/x-python",
   "name": "python",
   "nbconvert_exporter": "python",
   "pygments_lexer": "ipython3",
   "version": "3.11.9"
  }
 },
 "nbformat": 4,
 "nbformat_minor": 0
}
